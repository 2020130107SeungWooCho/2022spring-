{
  "nbformat": 4,
  "nbformat_minor": 0,
  "metadata": {
    "colab": {
      "name": "requests_gradio.ipynb",
      "provenance": [],
      "include_colab_link": true
    },
    "kernelspec": {
      "name": "python3",
      "display_name": "Python 3"
    },
    "language_info": {
      "name": "python"
    }
  },
  "cells": [
    {
      "cell_type": "markdown",
      "metadata": {
        "id": "view-in-github",
        "colab_type": "text"
      },
      "source": [
        "<a href=\"https://colab.research.google.com/github/2020130107SeungWooCho/2022spring-/blob/main/requests_gradio.ipynb\" target=\"_parent\"><img src=\"https://colab.research.google.com/assets/colab-badge.svg\" alt=\"Open In Colab\"/></a>"
      ]
    },
    {
      "cell_type": "code",
      "source": [
        "#!pip install gradio\n",
        "#import gradio as gr\n",
        "#import pandas as pd\n",
        "import requests"
      ],
      "metadata": {
        "id": "8eZHGJhmqd9a"
      },
      "execution_count": null,
      "outputs": []
    },
    {
      "cell_type": "code",
      "source": [
        "URL = ('http://apis.data.go.kr/B552584/UlfptcaAlarmInqireSvc/getUlfptcaAlarmInfo?year=2020&pageNo=1&numOfRows=100&returnType=json&serviceKey=QChOfoxbVW7MMOlyfhcWyrV1q7TV/nIOGmxk8nv8F1Hyv7zOzjOWdwxWw3ybCjf28jqM8HYzbS3o42fzvUZ2KQ==')\n",
        "response = requests.get(URL)"
      ],
      "metadata": {
        "id": "lHHEwqpyJF7r"
      },
      "execution_count": null,
      "outputs": []
    },
    {
      "cell_type": "code",
      "source": [
        "response"
      ],
      "metadata": {
        "colab": {
          "base_uri": "https://localhost:8080/"
        },
        "id": "JulCYPrkryqN",
        "outputId": "578bc8c3-e296-45ce-baab-93c45550a4ee"
      },
      "execution_count": null,
      "outputs": [
        {
          "output_type": "execute_result",
          "data": {
            "text/plain": [
              "<Response [200]>"
            ]
          },
          "metadata": {},
          "execution_count": 113
        }
      ]
    },
    {
      "cell_type": "markdown",
      "source": [
        "#### http://jsonviewer.stack.hu/ (copy json here to view json)"
      ],
      "metadata": {
        "id": "faIENRyFfnY1"
      }
    },
    {
      "cell_type": "code",
      "source": [
        "r = response.json()\n",
        "r"
      ],
      "metadata": {
        "id": "JcLKwg0foR9p"
      },
      "execution_count": null,
      "outputs": []
    },
    {
      "cell_type": "code",
      "source": [
        "items = r['response']['body']['items']\n",
        "items"
      ],
      "metadata": {
        "id": "j6d5OzF4s99q"
      },
      "execution_count": null,
      "outputs": []
    },
    {
      "cell_type": "code",
      "source": [
        "import pandas as pd\n",
        "clearDate = [item['clearDate'] for item in items]\n",
        "clearTime = [item['clearTime'] for item in items]\n",
        "dataDate = [item['dataDate'] for item in items]\n",
        "districtName = [item['districtName'] for item in items]\n",
        "issueDate = [item['issueDate'] for item in items]\n",
        "issueTime = [item['issueTime'] for item in items]\n",
        "issueVal = [item['issueVal'] for item in items]\n",
        "itemCode = [item['itemCode'] for item in items]\n",
        "moveName = [item['moveName'] for item in items]\n",
        "sn = [item['sn'] for item in items]\n",
        "\n",
        "\n",
        "clearDate = pd.Series(clearDate)\n",
        "clearTime = pd.Series(clearTime)   \n",
        "dataDate = pd.Series(dataDate)\n",
        "districtName = pd.Series(districtName)\n",
        "issueDate = pd.Series(issueDate)\n",
        "issueTime = pd.Series(issueTime)\n",
        "issueVal = pd.Series(issueVal)\n",
        "itemCode = pd.Series(itemCode)\n",
        "moveName = pd.Series(moveName)\n",
        "sn = pd.Series(sn)\n",
        "\n",
        "df = pd.DataFrame({ 'clearDate': clearDate, 'clearTime': clearTime, 'dataDate': dataDate, 'districtName': districtName, 'issueDate':issueDate, 'issueTime': issueTime, 'issueVal': issueVal, 'itemCode': itemCode, 'moveName': moveName, 'sn': sn})"
      ],
      "metadata": {
        "id": "W8lA0-IzE55W"
      },
      "execution_count": null,
      "outputs": []
    },
    {
      "cell_type": "code",
      "source": [
        "df"
      ],
      "metadata": {
        "colab": {
          "base_uri": "https://localhost:8080/",
          "height": 661
        },
        "id": "Ee1Lj9-5zIq9",
        "outputId": "c533a029-83c2-4edc-b7b6-36cb2f360801"
      },
      "execution_count": null,
      "outputs": [
        {
          "output_type": "execute_result",
          "data": {
            "text/plain": [
              "     clearDate clearTime    dataDate districtName   issueDate issueTime  \\\n",
              "0   2020-12-29     19:00  2020-12-29           세종  2020-12-29     12:00   \n",
              "1   2020-12-29     19:00  2020-12-29           충북  2020-12-29     13:00   \n",
              "2   2020-12-28     16:00  2020-12-28           대구  2020-12-28     14:00   \n",
              "3   2020-12-29     22:00  2020-12-28           충남  2020-12-28     21:00   \n",
              "4   2020-12-24     15:00  2020-12-24           경남  2020-12-24     11:00   \n",
              "..         ...       ...         ...          ...         ...       ...   \n",
              "95  2020-06-06     19:00  2020-06-06           전북  2020-06-06     03:00   \n",
              "96  2020-06-06     18:00  2020-06-06           전북  2020-06-06     15:00   \n",
              "97  2020-06-06     01:00  2020-06-05           전북  2020-06-05     21:00   \n",
              "98  2020-06-05     20:00  2020-06-05           전북  2020-06-05     18:00   \n",
              "99  2020-06-05     20:00  2020-06-05           전북  2020-06-05     17:00   \n",
              "\n",
              "   issueVal itemCode moveName   sn  \n",
              "0        80     PM25     세종권역  322  \n",
              "1        77     PM25     중부권역  323  \n",
              "2        83     PM25     대구권역  320  \n",
              "3        76     PM25     북부권역  321  \n",
              "4        84     PM25     함안권역  316  \n",
              "..      ...      ...      ...  ...  \n",
              "95       85     PM25     장수권역  226  \n",
              "96       89     PM25     김제권역  227  \n",
              "97      151     PM10     진안권역  225  \n",
              "98      157     PM10     전주권역  224  \n",
              "99       75     PM25     김제권역  223  \n",
              "\n",
              "[100 rows x 10 columns]"
            ],
            "text/html": [
              "\n",
              "  <div id=\"df-36707d3c-c3ec-4b81-963e-46394f172ee7\">\n",
              "    <div class=\"colab-df-container\">\n",
              "      <div>\n",
              "<style scoped>\n",
              "    .dataframe tbody tr th:only-of-type {\n",
              "        vertical-align: middle;\n",
              "    }\n",
              "\n",
              "    .dataframe tbody tr th {\n",
              "        vertical-align: top;\n",
              "    }\n",
              "\n",
              "    .dataframe thead th {\n",
              "        text-align: right;\n",
              "    }\n",
              "</style>\n",
              "<table border=\"1\" class=\"dataframe\">\n",
              "  <thead>\n",
              "    <tr style=\"text-align: right;\">\n",
              "      <th></th>\n",
              "      <th>clearDate</th>\n",
              "      <th>clearTime</th>\n",
              "      <th>dataDate</th>\n",
              "      <th>districtName</th>\n",
              "      <th>issueDate</th>\n",
              "      <th>issueTime</th>\n",
              "      <th>issueVal</th>\n",
              "      <th>itemCode</th>\n",
              "      <th>moveName</th>\n",
              "      <th>sn</th>\n",
              "    </tr>\n",
              "  </thead>\n",
              "  <tbody>\n",
              "    <tr>\n",
              "      <th>0</th>\n",
              "      <td>2020-12-29</td>\n",
              "      <td>19:00</td>\n",
              "      <td>2020-12-29</td>\n",
              "      <td>세종</td>\n",
              "      <td>2020-12-29</td>\n",
              "      <td>12:00</td>\n",
              "      <td>80</td>\n",
              "      <td>PM25</td>\n",
              "      <td>세종권역</td>\n",
              "      <td>322</td>\n",
              "    </tr>\n",
              "    <tr>\n",
              "      <th>1</th>\n",
              "      <td>2020-12-29</td>\n",
              "      <td>19:00</td>\n",
              "      <td>2020-12-29</td>\n",
              "      <td>충북</td>\n",
              "      <td>2020-12-29</td>\n",
              "      <td>13:00</td>\n",
              "      <td>77</td>\n",
              "      <td>PM25</td>\n",
              "      <td>중부권역</td>\n",
              "      <td>323</td>\n",
              "    </tr>\n",
              "    <tr>\n",
              "      <th>2</th>\n",
              "      <td>2020-12-28</td>\n",
              "      <td>16:00</td>\n",
              "      <td>2020-12-28</td>\n",
              "      <td>대구</td>\n",
              "      <td>2020-12-28</td>\n",
              "      <td>14:00</td>\n",
              "      <td>83</td>\n",
              "      <td>PM25</td>\n",
              "      <td>대구권역</td>\n",
              "      <td>320</td>\n",
              "    </tr>\n",
              "    <tr>\n",
              "      <th>3</th>\n",
              "      <td>2020-12-29</td>\n",
              "      <td>22:00</td>\n",
              "      <td>2020-12-28</td>\n",
              "      <td>충남</td>\n",
              "      <td>2020-12-28</td>\n",
              "      <td>21:00</td>\n",
              "      <td>76</td>\n",
              "      <td>PM25</td>\n",
              "      <td>북부권역</td>\n",
              "      <td>321</td>\n",
              "    </tr>\n",
              "    <tr>\n",
              "      <th>4</th>\n",
              "      <td>2020-12-24</td>\n",
              "      <td>15:00</td>\n",
              "      <td>2020-12-24</td>\n",
              "      <td>경남</td>\n",
              "      <td>2020-12-24</td>\n",
              "      <td>11:00</td>\n",
              "      <td>84</td>\n",
              "      <td>PM25</td>\n",
              "      <td>함안권역</td>\n",
              "      <td>316</td>\n",
              "    </tr>\n",
              "    <tr>\n",
              "      <th>...</th>\n",
              "      <td>...</td>\n",
              "      <td>...</td>\n",
              "      <td>...</td>\n",
              "      <td>...</td>\n",
              "      <td>...</td>\n",
              "      <td>...</td>\n",
              "      <td>...</td>\n",
              "      <td>...</td>\n",
              "      <td>...</td>\n",
              "      <td>...</td>\n",
              "    </tr>\n",
              "    <tr>\n",
              "      <th>95</th>\n",
              "      <td>2020-06-06</td>\n",
              "      <td>19:00</td>\n",
              "      <td>2020-06-06</td>\n",
              "      <td>전북</td>\n",
              "      <td>2020-06-06</td>\n",
              "      <td>03:00</td>\n",
              "      <td>85</td>\n",
              "      <td>PM25</td>\n",
              "      <td>장수권역</td>\n",
              "      <td>226</td>\n",
              "    </tr>\n",
              "    <tr>\n",
              "      <th>96</th>\n",
              "      <td>2020-06-06</td>\n",
              "      <td>18:00</td>\n",
              "      <td>2020-06-06</td>\n",
              "      <td>전북</td>\n",
              "      <td>2020-06-06</td>\n",
              "      <td>15:00</td>\n",
              "      <td>89</td>\n",
              "      <td>PM25</td>\n",
              "      <td>김제권역</td>\n",
              "      <td>227</td>\n",
              "    </tr>\n",
              "    <tr>\n",
              "      <th>97</th>\n",
              "      <td>2020-06-06</td>\n",
              "      <td>01:00</td>\n",
              "      <td>2020-06-05</td>\n",
              "      <td>전북</td>\n",
              "      <td>2020-06-05</td>\n",
              "      <td>21:00</td>\n",
              "      <td>151</td>\n",
              "      <td>PM10</td>\n",
              "      <td>진안권역</td>\n",
              "      <td>225</td>\n",
              "    </tr>\n",
              "    <tr>\n",
              "      <th>98</th>\n",
              "      <td>2020-06-05</td>\n",
              "      <td>20:00</td>\n",
              "      <td>2020-06-05</td>\n",
              "      <td>전북</td>\n",
              "      <td>2020-06-05</td>\n",
              "      <td>18:00</td>\n",
              "      <td>157</td>\n",
              "      <td>PM10</td>\n",
              "      <td>전주권역</td>\n",
              "      <td>224</td>\n",
              "    </tr>\n",
              "    <tr>\n",
              "      <th>99</th>\n",
              "      <td>2020-06-05</td>\n",
              "      <td>20:00</td>\n",
              "      <td>2020-06-05</td>\n",
              "      <td>전북</td>\n",
              "      <td>2020-06-05</td>\n",
              "      <td>17:00</td>\n",
              "      <td>75</td>\n",
              "      <td>PM25</td>\n",
              "      <td>김제권역</td>\n",
              "      <td>223</td>\n",
              "    </tr>\n",
              "  </tbody>\n",
              "</table>\n",
              "<p>100 rows × 10 columns</p>\n",
              "</div>\n",
              "      <button class=\"colab-df-convert\" onclick=\"convertToInteractive('df-36707d3c-c3ec-4b81-963e-46394f172ee7')\"\n",
              "              title=\"Convert this dataframe to an interactive table.\"\n",
              "              style=\"display:none;\">\n",
              "        \n",
              "  <svg xmlns=\"http://www.w3.org/2000/svg\" height=\"24px\"viewBox=\"0 0 24 24\"\n",
              "       width=\"24px\">\n",
              "    <path d=\"M0 0h24v24H0V0z\" fill=\"none\"/>\n",
              "    <path d=\"M18.56 5.44l.94 2.06.94-2.06 2.06-.94-2.06-.94-.94-2.06-.94 2.06-2.06.94zm-11 1L8.5 8.5l.94-2.06 2.06-.94-2.06-.94L8.5 2.5l-.94 2.06-2.06.94zm10 10l.94 2.06.94-2.06 2.06-.94-2.06-.94-.94-2.06-.94 2.06-2.06.94z\"/><path d=\"M17.41 7.96l-1.37-1.37c-.4-.4-.92-.59-1.43-.59-.52 0-1.04.2-1.43.59L10.3 9.45l-7.72 7.72c-.78.78-.78 2.05 0 2.83L4 21.41c.39.39.9.59 1.41.59.51 0 1.02-.2 1.41-.59l7.78-7.78 2.81-2.81c.8-.78.8-2.07 0-2.86zM5.41 20L4 18.59l7.72-7.72 1.47 1.35L5.41 20z\"/>\n",
              "  </svg>\n",
              "      </button>\n",
              "      \n",
              "  <style>\n",
              "    .colab-df-container {\n",
              "      display:flex;\n",
              "      flex-wrap:wrap;\n",
              "      gap: 12px;\n",
              "    }\n",
              "\n",
              "    .colab-df-convert {\n",
              "      background-color: #E8F0FE;\n",
              "      border: none;\n",
              "      border-radius: 50%;\n",
              "      cursor: pointer;\n",
              "      display: none;\n",
              "      fill: #1967D2;\n",
              "      height: 32px;\n",
              "      padding: 0 0 0 0;\n",
              "      width: 32px;\n",
              "    }\n",
              "\n",
              "    .colab-df-convert:hover {\n",
              "      background-color: #E2EBFA;\n",
              "      box-shadow: 0px 1px 2px rgba(60, 64, 67, 0.3), 0px 1px 3px 1px rgba(60, 64, 67, 0.15);\n",
              "      fill: #174EA6;\n",
              "    }\n",
              "\n",
              "    [theme=dark] .colab-df-convert {\n",
              "      background-color: #3B4455;\n",
              "      fill: #D2E3FC;\n",
              "    }\n",
              "\n",
              "    [theme=dark] .colab-df-convert:hover {\n",
              "      background-color: #434B5C;\n",
              "      box-shadow: 0px 1px 3px 1px rgba(0, 0, 0, 0.15);\n",
              "      filter: drop-shadow(0px 1px 2px rgba(0, 0, 0, 0.3));\n",
              "      fill: #FFFFFF;\n",
              "    }\n",
              "  </style>\n",
              "\n",
              "      <script>\n",
              "        const buttonEl =\n",
              "          document.querySelector('#df-36707d3c-c3ec-4b81-963e-46394f172ee7 button.colab-df-convert');\n",
              "        buttonEl.style.display =\n",
              "          google.colab.kernel.accessAllowed ? 'block' : 'none';\n",
              "\n",
              "        async function convertToInteractive(key) {\n",
              "          const element = document.querySelector('#df-36707d3c-c3ec-4b81-963e-46394f172ee7');\n",
              "          const dataTable =\n",
              "            await google.colab.kernel.invokeFunction('convertToInteractive',\n",
              "                                                     [key], {});\n",
              "          if (!dataTable) return;\n",
              "\n",
              "          const docLinkHtml = 'Like what you see? Visit the ' +\n",
              "            '<a target=\"_blank\" href=https://colab.research.google.com/notebooks/data_table.ipynb>data table notebook</a>'\n",
              "            + ' to learn more about interactive tables.';\n",
              "          element.innerHTML = '';\n",
              "          dataTable['output_type'] = 'display_data';\n",
              "          await google.colab.output.renderOutput(dataTable, element);\n",
              "          const docLink = document.createElement('div');\n",
              "          docLink.innerHTML = docLinkHtml;\n",
              "          element.appendChild(docLink);\n",
              "        }\n",
              "      </script>\n",
              "    </div>\n",
              "  </div>\n",
              "  "
            ]
          },
          "metadata": {},
          "execution_count": 134
        }
      ]
    },
    {
      "cell_type": "code",
      "source": [
        "def test(sidoName):\n",
        "  URL = ('http://apis.data.go.kr/B552584/UlfptcaAlarmInqireSvc/getUlfptcaAlarmInfo?year=2020&pageNo=1&numOfRows=100&returnType=json&serviceKey=QChOfoxbVW7MMOlyfhcWyrV1q7TV/nIOGmxk8nv8F1Hyv7zOzjOWdwxWw3ybCjf28jqM8HYzbS3o42fzvUZ2KQ==')\n",
        "  \n",
        "  response = requests.get(URL)\n",
        "  r = response.json()\n",
        "  items = r['response']['body']['items']\n",
        "\n",
        "clearDate = [item['clearDate'] for item in items]\n",
        "clearTime = [item['clearTime'] for item in items]\n",
        "dataDate = [item['dataDate'] for item in items]\n",
        "districtName = [item['districtName'] for item in items]\n",
        "issueDate = [item['issueDate'] for item in items]\n",
        "issueTime = [item['issueTime'] for item in items]\n",
        "issueVal = [item['issueVal'] for item in items]\n",
        "itemCode = [item['itemCode'] for item in items]\n",
        "moveName = [item['moveName'] for item in items]\n",
        "sn = [item['sn'] for item in items]\n",
        "\n",
        "clearDate = pd.Series(clearDate)\n",
        "clearTime = pd.Series(clearTime)   \n",
        "dataDate = pd.Series(dataDate)\n",
        "districtName = pd.Series(districtName)\n",
        "issueDate = pd.Series(issueDate)\n",
        "issueTime = pd.Series(issueTime)\n",
        "issueVal = pd.Series(issueVal)\n",
        "itemCode = pd.Series(itemCode)\n",
        "moveName = pd.Series(moveName)\n",
        "sn = pd.Series(sn)\n",
        "\n",
        "df = pd.DataFrame({ 'clearDate': clearDate, 'clearTime': clearTime, 'dataDate': dataDate, 'districtName': districtName, 'issueDate':issueDate, 'issueTime': issueTime, 'issueVal': issueVal, 'itemCode': itemCode, 'moveName': moveName, 'sn': sn})\n",
        "return df"
      ],
      "metadata": {
        "id": "xa2Gb_qsm_G5",
        "colab": {
          "base_uri": "https://localhost:8080/",
          "height": 136
        },
        "outputId": "c7143ca6-1d0d-4360-86f3-a1ceb8cc7963"
      },
      "execution_count": null,
      "outputs": [
        {
          "output_type": "error",
          "ename": "SyntaxError",
          "evalue": "ignored",
          "traceback": [
            "\u001b[0;36m  File \u001b[0;32m\"<ipython-input-149-edb8abe7d576>\"\u001b[0;36m, line \u001b[0;32m31\u001b[0m\n\u001b[0;31m    return df\u001b[0m\n\u001b[0m             ^\u001b[0m\n\u001b[0;31mSyntaxError\u001b[0m\u001b[0;31m:\u001b[0m 'return' outside function\n"
          ]
        }
      ]
    },
    {
      "cell_type": "code",
      "source": [
        "!pip install gradio"
      ],
      "metadata": {
        "id": "p1hW6mbH0oP1"
      },
      "execution_count": null,
      "outputs": []
    },
    {
      "cell_type": "code",
      "source": [
        "import gradio as gr"
      ],
      "metadata": {
        "id": "6GgtrfW10xQF"
      },
      "execution_count": null,
      "outputs": []
    },
    {
      "cell_type": "code",
      "source": [
        "iface = gr.Interface(test, gr.inputs.Dropdown(['서울', '부산', '대구', '인천', '광주', '대전', '울산', '경기', '강원', '충북', '충남', '전북', '전남', '경북', '경남', '제주', '세종']), outputs=['dataframe'])\n",
        "iface.launch(debug=True)"
      ],
      "metadata": {
        "id": "kxORJVPOnDSP",
        "outputId": "a5ad6f2a-8304-480f-88c0-829ebc37d6dd",
        "colab": {
          "base_uri": "https://localhost:8080/",
          "height": 613
        }
      },
      "execution_count": null,
      "outputs": [
        {
          "output_type": "stream",
          "name": "stdout",
          "text": [
            "Colab notebook detected. This cell will run indefinitely so that you can see errors and logs. To turn off, set debug=False in launch().\n",
            "Running on public URL: https://56784.gradio.app\n",
            "\n",
            "This share link expires in 72 hours. For free permanent hosting, check out Spaces (https://huggingface.co/spaces)\n"
          ]
        },
        {
          "output_type": "display_data",
          "data": {
            "text/plain": [
              "<IPython.lib.display.IFrame at 0x7fd7786f10d0>"
            ],
            "text/html": [
              "\n",
              "        <iframe\n",
              "            width=\"900\"\n",
              "            height=\"500\"\n",
              "            src=\"https://56784.gradio.app\"\n",
              "            frameborder=\"0\"\n",
              "            allowfullscreen\n",
              "        ></iframe>\n",
              "        "
            ]
          },
          "metadata": {}
        }
      ]
    }
  ]
}