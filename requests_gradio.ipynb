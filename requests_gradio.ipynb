{
  "nbformat": 4,
  "nbformat_minor": 0,
  "metadata": {
    "colab": {
      "name": "requests_gradio.ipynb",
      "provenance": [],
      "include_colab_link": true
    },
    "kernelspec": {
      "name": "python3",
      "display_name": "Python 3"
    },
    "language_info": {
      "name": "python"
    }
  },
  "cells": [
    {
      "cell_type": "markdown",
      "metadata": {
        "id": "view-in-github",
        "colab_type": "text"
      },
      "source": [
        "<a href=\"https://colab.research.google.com/github/2020130107SeungWooCho/2022spring-/blob/main/requests_gradio.ipynb\" target=\"_parent\"><img src=\"https://colab.research.google.com/assets/colab-badge.svg\" alt=\"Open In Colab\"/></a>"
      ]
    },
    {
      "cell_type": "code",
      "source": [
        "#!pip install gradio\n",
        "#import gradio as gr\n",
        "#import pandas as pd\n",
        "import requests"
      ],
      "metadata": {
        "id": "8eZHGJhmqd9a"
      },
      "execution_count": null,
      "outputs": []
    },
    {
      "cell_type": "code",
      "source": [
        "URL = ('http://apis.data.go.kr/B552584/UlfptcaAlarmInqireSvc/getUlfptcaAlarmInfo?year=2020&pageNo=1&numOfRows=100&returnType=json&serviceKey=QChOfoxbVW7MMOlyfhcWyrV1q7TV/nIOGmxk8nv8F1Hyv7zOzjOWdwxWw3ybCjf28jqM8HYzbS3o42fzvUZ2KQ==')\n",
        "response = requests.get(URL)"
      ],
      "metadata": {
        "id": "lHHEwqpyJF7r"
      },
      "execution_count": null,
      "outputs": []
    },
    {
      "cell_type": "code",
      "source": [
        "response"
      ],
      "metadata": {
        "colab": {
          "base_uri": "https://localhost:8080/"
        },
        "id": "JulCYPrkryqN",
        "outputId": "578bc8c3-e296-45ce-baab-93c45550a4ee"
      },
      "execution_count": null,
      "outputs": [
        {
          "output_type": "execute_result",
          "data": {
            "text/plain": [
              "<Response [200]>"
            ]
          },
          "metadata": {},
          "execution_count": 113
        }
      ]
    },
    {
      "cell_type": "markdown",
      "source": [
        "#### http://jsonviewer.stack.hu/ (copy json here to view json)"
      ],
      "metadata": {
        "id": "faIENRyFfnY1"
      }
    },
    {
      "cell_type": "code",
      "source": [
        "r = response.json()\n",
        "r"
      ],
      "metadata": {
        "id": "JcLKwg0foR9p"
      },
      "execution_count": null,
      "outputs": []
    },
    {
      "cell_type": "code",
      "source": [
        "items = r['response']['body']['items']\n",
        "items"
      ],
      "metadata": {
        "id": "j6d5OzF4s99q"
      },
      "execution_count": null,
      "outputs": []
    },
    {
      "cell_type": "code",
      "source": [
        "import pandas as pd\n",
        "clearDate = [item['clearDate'] for item in items]\n",
        "clearTime = [item['clearTime'] for item in items]\n",
        "dataDate = [item['dataDate'] for item in items]\n",
        "districtName = [item['districtName'] for item in items]\n",
        "issueDate = [item['issueDate'] for item in items]\n",
        "issueTime = [item['issueTime'] for item in items]\n",
        "issueVal = [item['issueVal'] for item in items]\n",
        "itemCode = [item['itemCode'] for item in items]\n",
        "moveName = [item['moveName'] for item in items]\n",
        "sn = [item['sn'] for item in items]\n",
        "\n",
        "\n",
        "clearDate = pd.Series(clearDate)\n",
        "clearTime = pd.Series(clearTime)   \n",
        "dataDate = pd.Series(dataDate)\n",
        "districtName = pd.Series(districtName)\n",
        "issueDate = pd.Series(issueDate)\n",
        "issueTime = pd.Series(issueTime)\n",
        "issueVal = pd.Series(issueVal)\n",
        "itemCode = pd.Series(itemCode)\n",
        "moveName = pd.Series(moveName)\n",
        "sn = pd.Series(sn)\n",
        "\n",
        "df = pd.DataFrame({ 'clearDate': clearDate, 'clearTime': clearTime, 'dataDate': dataDate, 'districtName': districtName, 'issueDate':issueDate, 'issueTime': issueTime, 'issueVal': issueVal, 'itemCode': itemCode, 'moveName': moveName, 'sn': sn})"
      ],
      "metadata": {
        "id": "W8lA0-IzE55W"
      },
      "execution_count": null,
      "outputs": []
    },
    {
      "cell_type": "code",
      "source": [
        "df"
      ],
      "metadata": {
        "colab": {
          "base_uri": "https://localhost:8080/",
          "height": 661
        },
        "id": "Ee1Lj9-5zIq9",
        "outputId": "c533a029-83c2-4edc-b7b6-36cb2f360801"
      },
      "execution_count": null,
      "outputs": [
        {
          "output_type": "execute_result",
          "data": {
            "text/plain": [
              "     clearDate clearTime    dataDate districtName   issueDate issueTime  \\\n",
              "0   2020-12-29     19:00  2020-12-29           세종  2020-12-29     12:00   \n",
              "1   2020-12-29     19:00  2020-12-29           충북  2020-12-29     13:00   \n",
              "2   2020-12-28     16:00  2020-12-28           대구  2020-12-28     14:00   \n",
              "3   2020-12-29     22:00  2020-12-28           충남  2020-12-28     21:00   \n",
              "4   2020-12-24     15:00  2020-12-24           경남  2020-12-24     11:00   \n",
              "..         ...       ...         ...          ...         ...       ...   \n",
              "95  2020-06-06     19:00  2020-06-06           전북  2020-06-06     03:00   \n",
              "96  2020-06-06     18:00  2020-06-06           전북  2020-06-06     15:00   \n",
              "97  2020-06-06     01:00  2020-06-05           전북  2020-06-05     21:00   \n",
              "98  2020-06-05     20:00  2020-06-05           전북  2020-06-05     18:00   \n",
              "99  2020-06-05     20:00  2020-06-05           전북  2020-06-05     17:00   \n",
              "\n",
              "   issueVal itemCode moveName   sn  \n",
              "0        80     PM25     세종권역  322  \n",
              "1        77     PM25     중부권역  323  \n",
              "2        83     PM25     대구권역  320  \n",
              "3        76     PM25     북부권역  321  \n",
              "4        84     PM25     함안권역  316  \n",
              "..      ...      ...      ...  ...  \n",
              "95       85     PM25     장수권역  226  \n",
              "96       89     PM25     김제권역  227  \n",
              "97      151     PM10     진안권역  225  \n",
              "98      157     PM10     전주권역  224  \n",
              "99       75     PM25     김제권역  223  \n",
              "\n",
              "[100 rows x 10 columns]"
            ],
            "text/html": [
              "\n",
              "  <div id=\"df-36707d3c-c3ec-4b81-963e-46394f172ee7\">\n",
              "    <div class=\"colab-df-container\">\n",
              "      <div>\n",
              "<style scoped>\n",
              "    .dataframe tbody tr th:only-of-type {\n",
              "        vertical-align: middle;\n",
              "    }\n",
              "\n",
              "    .dataframe tbody tr th {\n",
              "        vertical-align: top;\n",
              "    }\n",
              "\n",
              "    .dataframe thead th {\n",
              "        text-align: right;\n",
              "    }\n",
              "</style>\n",
              "<table border=\"1\" class=\"dataframe\">\n",
              "  <thead>\n",
              "    <tr style=\"text-align: right;\">\n",
              "      <th></th>\n",
              "      <th>clearDate</th>\n",
              "      <th>clearTime</th>\n",
              "      <th>dataDate</th>\n",
              "      <th>districtName</th>\n",
              "      <th>issueDate</th>\n",
              "      <th>issueTime</th>\n",
              "      <th>issueVal</th>\n",
              "      <th>itemCode</th>\n",
              "      <th>moveName</th>\n",
              "      <th>sn</th>\n",
              "    </tr>\n",
              "  </thead>\n",
              "  <tbody>\n",
              "    <tr>\n",
              "      <th>0</th>\n",
              "      <td>2020-12-29</td>\n",
              "      <td>19:00</td>\n",
              "      <td>2020-12-29</td>\n",
              "      <td>세종</td>\n",
              "      <td>2020-12-29</td>\n",
              "      <td>12:00</td>\n",
              "      <td>80</td>\n",
              "      <td>PM25</td>\n",
              "      <td>세종권역</td>\n",
              "      <td>322</td>\n",
              "    </tr>\n",
              "    <tr>\n",
              "      <th>1</th>\n",
              "      <td>2020-12-29</td>\n",
              "      <td>19:00</td>\n",
              "      <td>2020-12-29</td>\n",
              "      <td>충북</td>\n",
              "      <td>2020-12-29</td>\n",
              "      <td>13:00</td>\n",
              "      <td>77</td>\n",
              "      <td>PM25</td>\n",
              "      <td>중부권역</td>\n",
              "      <td>323</td>\n",
              "    </tr>\n",
              "    <tr>\n",
              "      <th>2</th>\n",
              "      <td>2020-12-28</td>\n",
              "      <td>16:00</td>\n",
              "      <td>2020-12-28</td>\n",
              "      <td>대구</td>\n",
              "      <td>2020-12-28</td>\n",
              "      <td>14:00</td>\n",
              "      <td>83</td>\n",
              "      <td>PM25</td>\n",
              "      <td>대구권역</td>\n",
              "      <td>320</td>\n",
              "    </tr>\n",
              "    <tr>\n",
              "      <th>3</th>\n",
              "      <td>2020-12-29</td>\n",
              "      <td>22:00</td>\n",
              "      <td>2020-12-28</td>\n",
              "      <td>충남</td>\n",
              "      <td>2020-12-28</td>\n",
              "      <td>21:00</td>\n",
              "      <td>76</td>\n",
              "      <td>PM25</td>\n",
              "      <td>북부권역</td>\n",
              "      <td>321</td>\n",
              "    </tr>\n",
              "    <tr>\n",
              "      <th>4</th>\n",
              "      <td>2020-12-24</td>\n",
              "      <td>15:00</td>\n",
              "      <td>2020-12-24</td>\n",
              "      <td>경남</td>\n",
              "      <td>2020-12-24</td>\n",
              "      <td>11:00</td>\n",
              "      <td>84</td>\n",
              "      <td>PM25</td>\n",
              "      <td>함안권역</td>\n",
              "      <td>316</td>\n",
              "    </tr>\n",
              "    <tr>\n",
              "      <th>...</th>\n",
              "      <td>...</td>\n",
              "      <td>...</td>\n",
              "      <td>...</td>\n",
              "      <td>...</td>\n",
              "      <td>...</td>\n",
              "      <td>...</td>\n",
              "      <td>...</td>\n",
              "      <td>...</td>\n",
              "      <td>...</td>\n",
              "      <td>...</td>\n",
              "    </tr>\n",
              "    <tr>\n",
              "      <th>95</th>\n",
              "      <td>2020-06-06</td>\n",
              "      <td>19:00</td>\n",
              "      <td>2020-06-06</td>\n",
              "      <td>전북</td>\n",
              "      <td>2020-06-06</td>\n",
              "      <td>03:00</td>\n",
              "      <td>85</td>\n",
              "      <td>PM25</td>\n",
              "      <td>장수권역</td>\n",
              "      <td>226</td>\n",
              "    </tr>\n",
              "    <tr>\n",
              "      <th>96</th>\n",
              "      <td>2020-06-06</td>\n",
              "      <td>18:00</td>\n",
              "      <td>2020-06-06</td>\n",
              "      <td>전북</td>\n",
              "      <td>2020-06-06</td>\n",
              "      <td>15:00</td>\n",
              "      <td>89</td>\n",
              "      <td>PM25</td>\n",
              "      <td>김제권역</td>\n",
              "      <td>227</td>\n",
              "    </tr>\n",
              "    <tr>\n",
              "      <th>97</th>\n",
              "      <td>2020-06-06</td>\n",
              "      <td>01:00</td>\n",
              "      <td>2020-06-05</td>\n",
              "      <td>전북</td>\n",
              "      <td>2020-06-05</td>\n",
              "      <td>21:00</td>\n",
              "      <td>151</td>\n",
              "      <td>PM10</td>\n",
              "      <td>진안권역</td>\n",
              "      <td>225</td>\n",
              "    </tr>\n",
              "    <tr>\n",
              "      <th>98</th>\n",
              "      <td>2020-06-05</td>\n",
              "      <td>20:00</td>\n",
              "      <td>2020-06-05</td>\n",
              "      <td>전북</td>\n",
              "      <td>2020-06-05</td>\n",
              "      <td>18:00</td>\n",
              "      <td>157</td>\n",
              "      <td>PM10</td>\n",
              "      <td>전주권역</td>\n",
              "      <td>224</td>\n",
              "    </tr>\n",
              "    <tr>\n",
              "      <th>99</th>\n",
              "      <td>2020-06-05</td>\n",
              "      <td>20:00</td>\n",
              "      <td>2020-06-05</td>\n",
              "      <td>전북</td>\n",
              "      <td>2020-06-05</td>\n",
              "      <td>17:00</td>\n",
              "      <td>75</td>\n",
              "      <td>PM25</td>\n",
              "      <td>김제권역</td>\n",
              "      <td>223</td>\n",
              "    </tr>\n",
              "  </tbody>\n",
              "</table>\n",
              "<p>100 rows × 10 columns</p>\n",
              "</div>\n",
              "      <button class=\"colab-df-convert\" onclick=\"convertToInteractive('df-36707d3c-c3ec-4b81-963e-46394f172ee7')\"\n",
              "              title=\"Convert this dataframe to an interactive table.\"\n",
              "              style=\"display:none;\">\n",
              "        \n",
              "  <svg xmlns=\"http://www.w3.org/2000/svg\" height=\"24px\"viewBox=\"0 0 24 24\"\n",
              "       width=\"24px\">\n",
              "    <path d=\"M0 0h24v24H0V0z\" fill=\"none\"/>\n",
              "    <path d=\"M18.56 5.44l.94 2.06.94-2.06 2.06-.94-2.06-.94-.94-2.06-.94 2.06-2.06.94zm-11 1L8.5 8.5l.94-2.06 2.06-.94-2.06-.94L8.5 2.5l-.94 2.06-2.06.94zm10 10l.94 2.06.94-2.06 2.06-.94-2.06-.94-.94-2.06-.94 2.06-2.06.94z\"/><path d=\"M17.41 7.96l-1.37-1.37c-.4-.4-.92-.59-1.43-.59-.52 0-1.04.2-1.43.59L10.3 9.45l-7.72 7.72c-.78.78-.78 2.05 0 2.83L4 21.41c.39.39.9.59 1.41.59.51 0 1.02-.2 1.41-.59l7.78-7.78 2.81-2.81c.8-.78.8-2.07 0-2.86zM5.41 20L4 18.59l7.72-7.72 1.47 1.35L5.41 20z\"/>\n",
              "  </svg>\n",
              "      </button>\n",
              "      \n",
              "  <style>\n",
              "    .colab-df-container {\n",
              "      display:flex;\n",
              "      flex-wrap:wrap;\n",
              "      gap: 12px;\n",
              "    }\n",
              "\n",
              "    .colab-df-convert {\n",
              "      background-color: #E8F0FE;\n",
              "      border: none;\n",
              "      border-radius: 50%;\n",
              "      cursor: pointer;\n",
              "      display: none;\n",
              "      fill: #1967D2;\n",
              "      height: 32px;\n",
              "      padding: 0 0 0 0;\n",
              "      width: 32px;\n",
              "    }\n",
              "\n",
              "    .colab-df-convert:hover {\n",
              "      background-color: #E2EBFA;\n",
              "      box-shadow: 0px 1px 2px rgba(60, 64, 67, 0.3), 0px 1px 3px 1px rgba(60, 64, 67, 0.15);\n",
              "      fill: #174EA6;\n",
              "    }\n",
              "\n",
              "    [theme=dark] .colab-df-convert {\n",
              "      background-color: #3B4455;\n",
              "      fill: #D2E3FC;\n",
              "    }\n",
              "\n",
              "    [theme=dark] .colab-df-convert:hover {\n",
              "      background-color: #434B5C;\n",
              "      box-shadow: 0px 1px 3px 1px rgba(0, 0, 0, 0.15);\n",
              "      filter: drop-shadow(0px 1px 2px rgba(0, 0, 0, 0.3));\n",
              "      fill: #FFFFFF;\n",
              "    }\n",
              "  </style>\n",
              "\n",
              "      <script>\n",
              "        const buttonEl =\n",
              "          document.querySelector('#df-36707d3c-c3ec-4b81-963e-46394f172ee7 button.colab-df-convert');\n",
              "        buttonEl.style.display =\n",
              "          google.colab.kernel.accessAllowed ? 'block' : 'none';\n",
              "\n",
              "        async function convertToInteractive(key) {\n",
              "          const element = document.querySelector('#df-36707d3c-c3ec-4b81-963e-46394f172ee7');\n",
              "          const dataTable =\n",
              "            await google.colab.kernel.invokeFunction('convertToInteractive',\n",
              "                                                     [key], {});\n",
              "          if (!dataTable) return;\n",
              "\n",
              "          const docLinkHtml = 'Like what you see? Visit the ' +\n",
              "            '<a target=\"_blank\" href=https://colab.research.google.com/notebooks/data_table.ipynb>data table notebook</a>'\n",
              "            + ' to learn more about interactive tables.';\n",
              "          element.innerHTML = '';\n",
              "          dataTable['output_type'] = 'display_data';\n",
              "          await google.colab.output.renderOutput(dataTable, element);\n",
              "          const docLink = document.createElement('div');\n",
              "          docLink.innerHTML = docLinkHtml;\n",
              "          element.appendChild(docLink);\n",
              "        }\n",
              "      </script>\n",
              "    </div>\n",
              "  </div>\n",
              "  "
            ]
          },
          "metadata": {},
          "execution_count": 134
        }
      ]
    },
    {
      "cell_type": "code",
      "source": [
        "!pip install gradio"
      ],
      "metadata": {
        "id": "p1hW6mbH0oP1",
        "colab": {
          "base_uri": "https://localhost:8080/"
        },
        "outputId": "836461b6-807e-4187-d765-f80026024fc5"
      },
      "execution_count": 7,
      "outputs": [
        {
          "output_type": "stream",
          "name": "stdout",
          "text": [
            "Collecting gradio\n",
            "  Downloading gradio-2.9.1-py3-none-any.whl (1.7 MB)\n",
            "\u001b[?25l\r\u001b[K     |▏                               | 10 kB 21.9 MB/s eta 0:00:01\r\u001b[K     |▍                               | 20 kB 25.4 MB/s eta 0:00:01\r\u001b[K     |▋                               | 30 kB 12.4 MB/s eta 0:00:01\r\u001b[K     |▊                               | 40 kB 9.7 MB/s eta 0:00:01\r\u001b[K     |█                               | 51 kB 6.7 MB/s eta 0:00:01\r\u001b[K     |█▏                              | 61 kB 7.9 MB/s eta 0:00:01\r\u001b[K     |█▎                              | 71 kB 8.2 MB/s eta 0:00:01\r\u001b[K     |█▌                              | 81 kB 7.2 MB/s eta 0:00:01\r\u001b[K     |█▊                              | 92 kB 8.0 MB/s eta 0:00:01\r\u001b[K     |█▉                              | 102 kB 7.4 MB/s eta 0:00:01\r\u001b[K     |██                              | 112 kB 7.4 MB/s eta 0:00:01\r\u001b[K     |██▎                             | 122 kB 7.4 MB/s eta 0:00:01\r\u001b[K     |██▍                             | 133 kB 7.4 MB/s eta 0:00:01\r\u001b[K     |██▋                             | 143 kB 7.4 MB/s eta 0:00:01\r\u001b[K     |██▉                             | 153 kB 7.4 MB/s eta 0:00:01\r\u001b[K     |███                             | 163 kB 7.4 MB/s eta 0:00:01\r\u001b[K     |███▏                            | 174 kB 7.4 MB/s eta 0:00:01\r\u001b[K     |███▍                            | 184 kB 7.4 MB/s eta 0:00:01\r\u001b[K     |███▋                            | 194 kB 7.4 MB/s eta 0:00:01\r\u001b[K     |███▊                            | 204 kB 7.4 MB/s eta 0:00:01\r\u001b[K     |████                            | 215 kB 7.4 MB/s eta 0:00:01\r\u001b[K     |████▏                           | 225 kB 7.4 MB/s eta 0:00:01\r\u001b[K     |████▎                           | 235 kB 7.4 MB/s eta 0:00:01\r\u001b[K     |████▌                           | 245 kB 7.4 MB/s eta 0:00:01\r\u001b[K     |████▊                           | 256 kB 7.4 MB/s eta 0:00:01\r\u001b[K     |████▉                           | 266 kB 7.4 MB/s eta 0:00:01\r\u001b[K     |█████                           | 276 kB 7.4 MB/s eta 0:00:01\r\u001b[K     |█████▎                          | 286 kB 7.4 MB/s eta 0:00:01\r\u001b[K     |█████▍                          | 296 kB 7.4 MB/s eta 0:00:01\r\u001b[K     |█████▋                          | 307 kB 7.4 MB/s eta 0:00:01\r\u001b[K     |█████▉                          | 317 kB 7.4 MB/s eta 0:00:01\r\u001b[K     |██████                          | 327 kB 7.4 MB/s eta 0:00:01\r\u001b[K     |██████▏                         | 337 kB 7.4 MB/s eta 0:00:01\r\u001b[K     |██████▍                         | 348 kB 7.4 MB/s eta 0:00:01\r\u001b[K     |██████▌                         | 358 kB 7.4 MB/s eta 0:00:01\r\u001b[K     |██████▊                         | 368 kB 7.4 MB/s eta 0:00:01\r\u001b[K     |███████                         | 378 kB 7.4 MB/s eta 0:00:01\r\u001b[K     |███████▏                        | 389 kB 7.4 MB/s eta 0:00:01\r\u001b[K     |███████▎                        | 399 kB 7.4 MB/s eta 0:00:01\r\u001b[K     |███████▌                        | 409 kB 7.4 MB/s eta 0:00:01\r\u001b[K     |███████▊                        | 419 kB 7.4 MB/s eta 0:00:01\r\u001b[K     |███████▉                        | 430 kB 7.4 MB/s eta 0:00:01\r\u001b[K     |████████                        | 440 kB 7.4 MB/s eta 0:00:01\r\u001b[K     |████████▎                       | 450 kB 7.4 MB/s eta 0:00:01\r\u001b[K     |████████▍                       | 460 kB 7.4 MB/s eta 0:00:01\r\u001b[K     |████████▋                       | 471 kB 7.4 MB/s eta 0:00:01\r\u001b[K     |████████▉                       | 481 kB 7.4 MB/s eta 0:00:01\r\u001b[K     |█████████                       | 491 kB 7.4 MB/s eta 0:00:01\r\u001b[K     |█████████▏                      | 501 kB 7.4 MB/s eta 0:00:01\r\u001b[K     |█████████▍                      | 512 kB 7.4 MB/s eta 0:00:01\r\u001b[K     |█████████▌                      | 522 kB 7.4 MB/s eta 0:00:01\r\u001b[K     |█████████▊                      | 532 kB 7.4 MB/s eta 0:00:01\r\u001b[K     |██████████                      | 542 kB 7.4 MB/s eta 0:00:01\r\u001b[K     |██████████▏                     | 552 kB 7.4 MB/s eta 0:00:01\r\u001b[K     |██████████▎                     | 563 kB 7.4 MB/s eta 0:00:01\r\u001b[K     |██████████▌                     | 573 kB 7.4 MB/s eta 0:00:01\r\u001b[K     |██████████▊                     | 583 kB 7.4 MB/s eta 0:00:01\r\u001b[K     |██████████▉                     | 593 kB 7.4 MB/s eta 0:00:01\r\u001b[K     |███████████                     | 604 kB 7.4 MB/s eta 0:00:01\r\u001b[K     |███████████▎                    | 614 kB 7.4 MB/s eta 0:00:01\r\u001b[K     |███████████▍                    | 624 kB 7.4 MB/s eta 0:00:01\r\u001b[K     |███████████▋                    | 634 kB 7.4 MB/s eta 0:00:01\r\u001b[K     |███████████▉                    | 645 kB 7.4 MB/s eta 0:00:01\r\u001b[K     |████████████                    | 655 kB 7.4 MB/s eta 0:00:01\r\u001b[K     |████████████▏                   | 665 kB 7.4 MB/s eta 0:00:01\r\u001b[K     |████████████▍                   | 675 kB 7.4 MB/s eta 0:00:01\r\u001b[K     |████████████▌                   | 686 kB 7.4 MB/s eta 0:00:01\r\u001b[K     |████████████▊                   | 696 kB 7.4 MB/s eta 0:00:01\r\u001b[K     |█████████████                   | 706 kB 7.4 MB/s eta 0:00:01\r\u001b[K     |█████████████                   | 716 kB 7.4 MB/s eta 0:00:01\r\u001b[K     |█████████████▎                  | 727 kB 7.4 MB/s eta 0:00:01\r\u001b[K     |█████████████▌                  | 737 kB 7.4 MB/s eta 0:00:01\r\u001b[K     |█████████████▊                  | 747 kB 7.4 MB/s eta 0:00:01\r\u001b[K     |█████████████▉                  | 757 kB 7.4 MB/s eta 0:00:01\r\u001b[K     |██████████████                  | 768 kB 7.4 MB/s eta 0:00:01\r\u001b[K     |██████████████▎                 | 778 kB 7.4 MB/s eta 0:00:01\r\u001b[K     |██████████████▍                 | 788 kB 7.4 MB/s eta 0:00:01\r\u001b[K     |██████████████▋                 | 798 kB 7.4 MB/s eta 0:00:01\r\u001b[K     |██████████████▉                 | 808 kB 7.4 MB/s eta 0:00:01\r\u001b[K     |███████████████                 | 819 kB 7.4 MB/s eta 0:00:01\r\u001b[K     |███████████████▏                | 829 kB 7.4 MB/s eta 0:00:01\r\u001b[K     |███████████████▍                | 839 kB 7.4 MB/s eta 0:00:01\r\u001b[K     |███████████████▌                | 849 kB 7.4 MB/s eta 0:00:01\r\u001b[K     |███████████████▊                | 860 kB 7.4 MB/s eta 0:00:01\r\u001b[K     |████████████████                | 870 kB 7.4 MB/s eta 0:00:01\r\u001b[K     |████████████████                | 880 kB 7.4 MB/s eta 0:00:01\r\u001b[K     |████████████████▎               | 890 kB 7.4 MB/s eta 0:00:01\r\u001b[K     |████████████████▌               | 901 kB 7.4 MB/s eta 0:00:01\r\u001b[K     |████████████████▋               | 911 kB 7.4 MB/s eta 0:00:01\r\u001b[K     |████████████████▉               | 921 kB 7.4 MB/s eta 0:00:01\r\u001b[K     |█████████████████               | 931 kB 7.4 MB/s eta 0:00:01\r\u001b[K     |█████████████████▎              | 942 kB 7.4 MB/s eta 0:00:01\r\u001b[K     |█████████████████▍              | 952 kB 7.4 MB/s eta 0:00:01\r\u001b[K     |█████████████████▋              | 962 kB 7.4 MB/s eta 0:00:01\r\u001b[K     |█████████████████▉              | 972 kB 7.4 MB/s eta 0:00:01\r\u001b[K     |██████████████████              | 983 kB 7.4 MB/s eta 0:00:01\r\u001b[K     |██████████████████▏             | 993 kB 7.4 MB/s eta 0:00:01\r\u001b[K     |██████████████████▍             | 1.0 MB 7.4 MB/s eta 0:00:01\r\u001b[K     |██████████████████▌             | 1.0 MB 7.4 MB/s eta 0:00:01\r\u001b[K     |██████████████████▊             | 1.0 MB 7.4 MB/s eta 0:00:01\r\u001b[K     |███████████████████             | 1.0 MB 7.4 MB/s eta 0:00:01\r\u001b[K     |███████████████████             | 1.0 MB 7.4 MB/s eta 0:00:01\r\u001b[K     |███████████████████▎            | 1.1 MB 7.4 MB/s eta 0:00:01\r\u001b[K     |███████████████████▌            | 1.1 MB 7.4 MB/s eta 0:00:01\r\u001b[K     |███████████████████▋            | 1.1 MB 7.4 MB/s eta 0:00:01\r\u001b[K     |███████████████████▉            | 1.1 MB 7.4 MB/s eta 0:00:01\r\u001b[K     |████████████████████            | 1.1 MB 7.4 MB/s eta 0:00:01\r\u001b[K     |████████████████████▎           | 1.1 MB 7.4 MB/s eta 0:00:01\r\u001b[K     |████████████████████▍           | 1.1 MB 7.4 MB/s eta 0:00:01\r\u001b[K     |████████████████████▋           | 1.1 MB 7.4 MB/s eta 0:00:01\r\u001b[K     |████████████████████▉           | 1.1 MB 7.4 MB/s eta 0:00:01\r\u001b[K     |█████████████████████           | 1.1 MB 7.4 MB/s eta 0:00:01\r\u001b[K     |█████████████████████▏          | 1.2 MB 7.4 MB/s eta 0:00:01\r\u001b[K     |█████████████████████▍          | 1.2 MB 7.4 MB/s eta 0:00:01\r\u001b[K     |█████████████████████▌          | 1.2 MB 7.4 MB/s eta 0:00:01\r\u001b[K     |█████████████████████▊          | 1.2 MB 7.4 MB/s eta 0:00:01\r\u001b[K     |██████████████████████          | 1.2 MB 7.4 MB/s eta 0:00:01\r\u001b[K     |██████████████████████          | 1.2 MB 7.4 MB/s eta 0:00:01\r\u001b[K     |██████████████████████▎         | 1.2 MB 7.4 MB/s eta 0:00:01\r\u001b[K     |██████████████████████▌         | 1.2 MB 7.4 MB/s eta 0:00:01\r\u001b[K     |██████████████████████▋         | 1.2 MB 7.4 MB/s eta 0:00:01\r\u001b[K     |██████████████████████▉         | 1.2 MB 7.4 MB/s eta 0:00:01\r\u001b[K     |███████████████████████         | 1.3 MB 7.4 MB/s eta 0:00:01\r\u001b[K     |███████████████████████▏        | 1.3 MB 7.4 MB/s eta 0:00:01\r\u001b[K     |███████████████████████▍        | 1.3 MB 7.4 MB/s eta 0:00:01\r\u001b[K     |███████████████████████▋        | 1.3 MB 7.4 MB/s eta 0:00:01\r\u001b[K     |███████████████████████▉        | 1.3 MB 7.4 MB/s eta 0:00:01\r\u001b[K     |████████████████████████        | 1.3 MB 7.4 MB/s eta 0:00:01\r\u001b[K     |████████████████████████▏       | 1.3 MB 7.4 MB/s eta 0:00:01\r\u001b[K     |████████████████████████▍       | 1.3 MB 7.4 MB/s eta 0:00:01\r\u001b[K     |████████████████████████▌       | 1.3 MB 7.4 MB/s eta 0:00:01\r\u001b[K     |████████████████████████▊       | 1.4 MB 7.4 MB/s eta 0:00:01\r\u001b[K     |█████████████████████████       | 1.4 MB 7.4 MB/s eta 0:00:01\r\u001b[K     |█████████████████████████       | 1.4 MB 7.4 MB/s eta 0:00:01\r\u001b[K     |█████████████████████████▎      | 1.4 MB 7.4 MB/s eta 0:00:01\r\u001b[K     |█████████████████████████▌      | 1.4 MB 7.4 MB/s eta 0:00:01\r\u001b[K     |█████████████████████████▋      | 1.4 MB 7.4 MB/s eta 0:00:01\r\u001b[K     |█████████████████████████▉      | 1.4 MB 7.4 MB/s eta 0:00:01\r\u001b[K     |██████████████████████████      | 1.4 MB 7.4 MB/s eta 0:00:01\r\u001b[K     |██████████████████████████▏     | 1.4 MB 7.4 MB/s eta 0:00:01\r\u001b[K     |██████████████████████████▍     | 1.4 MB 7.4 MB/s eta 0:00:01\r\u001b[K     |██████████████████████████▋     | 1.5 MB 7.4 MB/s eta 0:00:01\r\u001b[K     |██████████████████████████▊     | 1.5 MB 7.4 MB/s eta 0:00:01\r\u001b[K     |███████████████████████████     | 1.5 MB 7.4 MB/s eta 0:00:01\r\u001b[K     |███████████████████████████▏    | 1.5 MB 7.4 MB/s eta 0:00:01\r\u001b[K     |███████████████████████████▍    | 1.5 MB 7.4 MB/s eta 0:00:01\r\u001b[K     |███████████████████████████▌    | 1.5 MB 7.4 MB/s eta 0:00:01\r\u001b[K     |███████████████████████████▊    | 1.5 MB 7.4 MB/s eta 0:00:01\r\u001b[K     |████████████████████████████    | 1.5 MB 7.4 MB/s eta 0:00:01\r\u001b[K     |████████████████████████████    | 1.5 MB 7.4 MB/s eta 0:00:01\r\u001b[K     |████████████████████████████▎   | 1.5 MB 7.4 MB/s eta 0:00:01\r\u001b[K     |████████████████████████████▌   | 1.6 MB 7.4 MB/s eta 0:00:01\r\u001b[K     |████████████████████████████▋   | 1.6 MB 7.4 MB/s eta 0:00:01\r\u001b[K     |████████████████████████████▉   | 1.6 MB 7.4 MB/s eta 0:00:01\r\u001b[K     |█████████████████████████████   | 1.6 MB 7.4 MB/s eta 0:00:01\r\u001b[K     |█████████████████████████████▏  | 1.6 MB 7.4 MB/s eta 0:00:01\r\u001b[K     |█████████████████████████████▍  | 1.6 MB 7.4 MB/s eta 0:00:01\r\u001b[K     |█████████████████████████████▋  | 1.6 MB 7.4 MB/s eta 0:00:01\r\u001b[K     |█████████████████████████████▊  | 1.6 MB 7.4 MB/s eta 0:00:01\r\u001b[K     |██████████████████████████████  | 1.6 MB 7.4 MB/s eta 0:00:01\r\u001b[K     |██████████████████████████████▏ | 1.6 MB 7.4 MB/s eta 0:00:01\r\u001b[K     |██████████████████████████████▍ | 1.7 MB 7.4 MB/s eta 0:00:01\r\u001b[K     |██████████████████████████████▌ | 1.7 MB 7.4 MB/s eta 0:00:01\r\u001b[K     |██████████████████████████████▊ | 1.7 MB 7.4 MB/s eta 0:00:01\r\u001b[K     |███████████████████████████████ | 1.7 MB 7.4 MB/s eta 0:00:01\r\u001b[K     |███████████████████████████████ | 1.7 MB 7.4 MB/s eta 0:00:01\r\u001b[K     |███████████████████████████████▎| 1.7 MB 7.4 MB/s eta 0:00:01\r\u001b[K     |███████████████████████████████▌| 1.7 MB 7.4 MB/s eta 0:00:01\r\u001b[K     |███████████████████████████████▋| 1.7 MB 7.4 MB/s eta 0:00:01\r\u001b[K     |███████████████████████████████▉| 1.7 MB 7.4 MB/s eta 0:00:01\r\u001b[K     |████████████████████████████████| 1.7 MB 7.4 MB/s \n",
            "\u001b[?25hCollecting python-multipart\n",
            "  Downloading python-multipart-0.0.5.tar.gz (32 kB)\n",
            "Collecting pydub\n",
            "  Downloading pydub-0.25.1-py2.py3-none-any.whl (32 kB)\n",
            "Collecting orjson\n",
            "  Downloading orjson-3.6.7-cp37-cp37m-manylinux_2_24_x86_64.whl (255 kB)\n",
            "\u001b[K     |████████████████████████████████| 255 kB 44.6 MB/s \n",
            "\u001b[?25hCollecting paramiko\n",
            "  Downloading paramiko-2.10.3-py2.py3-none-any.whl (211 kB)\n",
            "\u001b[K     |████████████████████████████████| 211 kB 40.8 MB/s \n",
            "\u001b[?25hRequirement already satisfied: numpy in /usr/local/lib/python3.7/dist-packages (from gradio) (1.21.5)\n",
            "Requirement already satisfied: pillow in /usr/local/lib/python3.7/dist-packages (from gradio) (7.1.2)\n",
            "Collecting analytics-python\n",
            "  Downloading analytics_python-1.4.0-py2.py3-none-any.whl (15 kB)\n",
            "Requirement already satisfied: requests in /usr/local/lib/python3.7/dist-packages (from gradio) (2.23.0)\n",
            "Collecting pycryptodome\n",
            "  Downloading pycryptodome-3.14.1-cp35-abi3-manylinux2010_x86_64.whl (2.0 MB)\n",
            "\u001b[K     |████████████████████████████████| 2.0 MB 42.3 MB/s \n",
            "\u001b[?25hCollecting markdown-it-py[linkify,plugins]\n",
            "  Downloading markdown_it_py-2.0.1-py3-none-any.whl (84 kB)\n",
            "\u001b[K     |████████████████████████████████| 84 kB 3.2 MB/s \n",
            "\u001b[?25hCollecting fastapi\n",
            "  Downloading fastapi-0.75.1-py3-none-any.whl (54 kB)\n",
            "\u001b[K     |████████████████████████████████| 54 kB 3.2 MB/s \n",
            "\u001b[?25hRequirement already satisfied: pandas in /usr/local/lib/python3.7/dist-packages (from gradio) (1.3.5)\n",
            "Collecting aiohttp\n",
            "  Downloading aiohttp-3.8.1-cp37-cp37m-manylinux_2_5_x86_64.manylinux1_x86_64.manylinux_2_12_x86_64.manylinux2010_x86_64.whl (1.1 MB)\n",
            "\u001b[K     |████████████████████████████████| 1.1 MB 44.2 MB/s \n",
            "\u001b[?25hCollecting uvicorn\n",
            "  Downloading uvicorn-0.17.6-py3-none-any.whl (53 kB)\n",
            "\u001b[K     |████████████████████████████████| 53 kB 2.3 MB/s \n",
            "\u001b[?25hRequirement already satisfied: matplotlib in /usr/local/lib/python3.7/dist-packages (from gradio) (3.2.2)\n",
            "Collecting ffmpy\n",
            "  Downloading ffmpy-0.3.0.tar.gz (4.8 kB)\n",
            "Requirement already satisfied: typing-extensions>=3.7.4 in /usr/local/lib/python3.7/dist-packages (from aiohttp->gradio) (3.10.0.2)\n",
            "Collecting aiosignal>=1.1.2\n",
            "  Downloading aiosignal-1.2.0-py3-none-any.whl (8.2 kB)\n",
            "Requirement already satisfied: charset-normalizer<3.0,>=2.0 in /usr/local/lib/python3.7/dist-packages (from aiohttp->gradio) (2.0.12)\n",
            "Collecting frozenlist>=1.1.1\n",
            "  Downloading frozenlist-1.3.0-cp37-cp37m-manylinux_2_5_x86_64.manylinux1_x86_64.manylinux_2_17_x86_64.manylinux2014_x86_64.whl (144 kB)\n",
            "\u001b[K     |████████████████████████████████| 144 kB 51.9 MB/s \n",
            "\u001b[?25hCollecting multidict<7.0,>=4.5\n",
            "  Downloading multidict-6.0.2-cp37-cp37m-manylinux_2_17_x86_64.manylinux2014_x86_64.whl (94 kB)\n",
            "\u001b[K     |████████████████████████████████| 94 kB 3.3 MB/s \n",
            "\u001b[?25hCollecting asynctest==0.13.0\n",
            "  Downloading asynctest-0.13.0-py3-none-any.whl (26 kB)\n",
            "Collecting yarl<2.0,>=1.0\n",
            "  Downloading yarl-1.7.2-cp37-cp37m-manylinux_2_5_x86_64.manylinux1_x86_64.manylinux_2_12_x86_64.manylinux2010_x86_64.whl (271 kB)\n",
            "\u001b[K     |████████████████████████████████| 271 kB 68.9 MB/s \n",
            "\u001b[?25hCollecting async-timeout<5.0,>=4.0.0a3\n",
            "  Downloading async_timeout-4.0.2-py3-none-any.whl (5.8 kB)\n",
            "Requirement already satisfied: attrs>=17.3.0 in /usr/local/lib/python3.7/dist-packages (from aiohttp->gradio) (21.4.0)\n",
            "Requirement already satisfied: idna>=2.0 in /usr/local/lib/python3.7/dist-packages (from yarl<2.0,>=1.0->aiohttp->gradio) (2.10)\n",
            "Requirement already satisfied: six>=1.5 in /usr/local/lib/python3.7/dist-packages (from analytics-python->gradio) (1.15.0)\n",
            "Collecting monotonic>=1.5\n",
            "  Downloading monotonic-1.6-py2.py3-none-any.whl (8.2 kB)\n",
            "Collecting backoff==1.10.0\n",
            "  Downloading backoff-1.10.0-py2.py3-none-any.whl (31 kB)\n",
            "Requirement already satisfied: python-dateutil>2.1 in /usr/local/lib/python3.7/dist-packages (from analytics-python->gradio) (2.8.2)\n",
            "Requirement already satisfied: urllib3!=1.25.0,!=1.25.1,<1.26,>=1.21.1 in /usr/local/lib/python3.7/dist-packages (from requests->gradio) (1.24.3)\n",
            "Requirement already satisfied: certifi>=2017.4.17 in /usr/local/lib/python3.7/dist-packages (from requests->gradio) (2021.10.8)\n",
            "Requirement already satisfied: chardet<4,>=3.0.2 in /usr/local/lib/python3.7/dist-packages (from requests->gradio) (3.0.4)\n",
            "Collecting starlette==0.17.1\n",
            "  Downloading starlette-0.17.1-py3-none-any.whl (58 kB)\n",
            "\u001b[K     |████████████████████████████████| 58 kB 7.0 MB/s \n",
            "\u001b[?25hCollecting pydantic!=1.7,!=1.7.1,!=1.7.2,!=1.7.3,!=1.8,!=1.8.1,<2.0.0,>=1.6.2\n",
            "  Downloading pydantic-1.9.0-cp37-cp37m-manylinux_2_17_x86_64.manylinux2014_x86_64.whl (10.9 MB)\n",
            "\u001b[K     |████████████████████████████████| 10.9 MB 44.9 MB/s \n",
            "\u001b[?25hCollecting anyio<4,>=3.0.0\n",
            "  Downloading anyio-3.5.0-py3-none-any.whl (79 kB)\n",
            "\u001b[K     |████████████████████████████████| 79 kB 7.9 MB/s \n",
            "\u001b[?25hCollecting sniffio>=1.1\n",
            "  Downloading sniffio-1.2.0-py3-none-any.whl (10 kB)\n",
            "Collecting mdurl~=0.1\n",
            "  Downloading mdurl-0.1.0-py3-none-any.whl (11 kB)\n",
            "Collecting mdit-py-plugins\n",
            "  Downloading mdit_py_plugins-0.3.0-py3-none-any.whl (43 kB)\n",
            "\u001b[K     |████████████████████████████████| 43 kB 2.5 MB/s \n",
            "\u001b[?25hCollecting linkify-it-py~=1.0\n",
            "  Downloading linkify_it_py-1.0.3-py3-none-any.whl (19 kB)\n",
            "Collecting uc-micro-py\n",
            "  Downloading uc_micro_py-1.0.1-py3-none-any.whl (6.2 kB)\n",
            "Requirement already satisfied: cycler>=0.10 in /usr/local/lib/python3.7/dist-packages (from matplotlib->gradio) (0.11.0)\n",
            "Requirement already satisfied: kiwisolver>=1.0.1 in /usr/local/lib/python3.7/dist-packages (from matplotlib->gradio) (1.4.0)\n",
            "Requirement already satisfied: pyparsing!=2.0.4,!=2.1.2,!=2.1.6,>=2.0.1 in /usr/local/lib/python3.7/dist-packages (from matplotlib->gradio) (3.0.7)\n",
            "Requirement already satisfied: pytz>=2017.3 in /usr/local/lib/python3.7/dist-packages (from pandas->gradio) (2018.9)\n",
            "Collecting pynacl>=1.0.1\n",
            "  Downloading PyNaCl-1.5.0-cp36-abi3-manylinux_2_17_x86_64.manylinux2014_x86_64.manylinux_2_24_x86_64.whl (856 kB)\n",
            "\u001b[K     |████████████████████████████████| 856 kB 57.0 MB/s \n",
            "\u001b[?25hCollecting cryptography>=2.5\n",
            "  Downloading cryptography-36.0.2-cp36-abi3-manylinux_2_24_x86_64.whl (3.6 MB)\n",
            "\u001b[K     |████████████████████████████████| 3.6 MB 44.5 MB/s \n",
            "\u001b[?25hCollecting bcrypt>=3.1.3\n",
            "  Downloading bcrypt-3.2.0-cp36-abi3-manylinux_2_17_x86_64.manylinux2014_x86_64.manylinux_2_24_x86_64.whl (61 kB)\n",
            "\u001b[K     |████████████████████████████████| 61 kB 509 kB/s \n",
            "\u001b[?25hRequirement already satisfied: cffi>=1.1 in /usr/local/lib/python3.7/dist-packages (from bcrypt>=3.1.3->paramiko->gradio) (1.15.0)\n",
            "Requirement already satisfied: pycparser in /usr/local/lib/python3.7/dist-packages (from cffi>=1.1->bcrypt>=3.1.3->paramiko->gradio) (2.21)\n",
            "Requirement already satisfied: click>=7.0 in /usr/local/lib/python3.7/dist-packages (from uvicorn->gradio) (7.1.2)\n",
            "Collecting asgiref>=3.4.0\n",
            "  Downloading asgiref-3.5.0-py3-none-any.whl (22 kB)\n",
            "Collecting h11>=0.8\n",
            "  Downloading h11-0.13.0-py3-none-any.whl (58 kB)\n",
            "\u001b[K     |████████████████████████████████| 58 kB 6.8 MB/s \n",
            "\u001b[?25hBuilding wheels for collected packages: ffmpy, python-multipart\n",
            "  Building wheel for ffmpy (setup.py) ... \u001b[?25l\u001b[?25hdone\n",
            "  Created wheel for ffmpy: filename=ffmpy-0.3.0-py3-none-any.whl size=4712 sha256=0c3b04eea73b7887ef99ad67e924bbebafd49529f22419ccec18b0a433c7b307\n",
            "  Stored in directory: /root/.cache/pip/wheels/13/e4/6c/e8059816e86796a597c6e6b0d4c880630f51a1fcfa0befd5e6\n",
            "  Building wheel for python-multipart (setup.py) ... \u001b[?25l\u001b[?25hdone\n",
            "  Created wheel for python-multipart: filename=python_multipart-0.0.5-py3-none-any.whl size=31678 sha256=1e93c334449b9d0162a6d77e7fb467444264f09aa73bad3cd1cd8ff48824b723\n",
            "  Stored in directory: /root/.cache/pip/wheels/2c/41/7c/bfd1c180534ffdcc0972f78c5758f89881602175d48a8bcd2c\n",
            "Successfully built ffmpy python-multipart\n",
            "Installing collected packages: sniffio, mdurl, uc-micro-py, multidict, markdown-it-py, frozenlist, anyio, yarl, starlette, pynacl, pydantic, monotonic, mdit-py-plugins, linkify-it-py, h11, cryptography, bcrypt, backoff, asynctest, async-timeout, asgiref, aiosignal, uvicorn, python-multipart, pydub, pycryptodome, paramiko, orjson, ffmpy, fastapi, analytics-python, aiohttp, gradio\n",
            "Successfully installed aiohttp-3.8.1 aiosignal-1.2.0 analytics-python-1.4.0 anyio-3.5.0 asgiref-3.5.0 async-timeout-4.0.2 asynctest-0.13.0 backoff-1.10.0 bcrypt-3.2.0 cryptography-36.0.2 fastapi-0.75.1 ffmpy-0.3.0 frozenlist-1.3.0 gradio-2.9.1 h11-0.13.0 linkify-it-py-1.0.3 markdown-it-py-2.0.1 mdit-py-plugins-0.3.0 mdurl-0.1.0 monotonic-1.6 multidict-6.0.2 orjson-3.6.7 paramiko-2.10.3 pycryptodome-3.14.1 pydantic-1.9.0 pydub-0.25.1 pynacl-1.5.0 python-multipart-0.0.5 sniffio-1.2.0 starlette-0.17.1 uc-micro-py-1.0.1 uvicorn-0.17.6 yarl-1.7.2\n"
          ]
        }
      ]
    },
    {
      "cell_type": "code",
      "source": [
        "import gradio as gr"
      ],
      "metadata": {
        "id": "6GgtrfW10xQF"
      },
      "execution_count": 8,
      "outputs": []
    },
    {
      "cell_type": "code",
      "source": [
        "iface = gr.Interface(test, gr.inputs.Dropdown(['서울', '부산', '대구', '인천', '광주', '대전', '울산', '경기', '강원', '충북', '충남', '전북', '전남', '경북', '경남', '제주', '세종']), outputs=['dataframe'])\n",
        "iface.launch(debug=True)"
      ],
      "metadata": {
        "id": "kxORJVPOnDSP",
        "outputId": "1123420f-2436-45aa-ea72-6446031aa1f6",
        "colab": {
          "base_uri": "https://localhost:8080/",
          "height": 613
        }
      },
      "execution_count": null,
      "outputs": [
        {
          "output_type": "stream",
          "name": "stdout",
          "text": [
            "Colab notebook detected. This cell will run indefinitely so that you can see errors and logs. To turn off, set debug=False in launch().\n",
            "Running on public URL: https://33856.gradio.app\n",
            "\n",
            "This share link expires in 72 hours. For free permanent hosting, check out Spaces (https://huggingface.co/spaces)\n"
          ]
        },
        {
          "output_type": "display_data",
          "data": {
            "text/plain": [
              "<IPython.lib.display.IFrame at 0x7fbbc74568d0>"
            ],
            "text/html": [
              "\n",
              "        <iframe\n",
              "            width=\"900\"\n",
              "            height=\"500\"\n",
              "            src=\"https://33856.gradio.app\"\n",
              "            frameborder=\"0\"\n",
              "            allowfullscreen\n",
              "        ></iframe>\n",
              "        "
            ]
          },
          "metadata": {}
        }
      ]
    }
  ]
}